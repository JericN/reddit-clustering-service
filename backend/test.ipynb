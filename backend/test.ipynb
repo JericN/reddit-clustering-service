{
 "cells": [
  {
   "cell_type": "code",
   "execution_count": 1,
   "metadata": {},
   "outputs": [
    {
     "ename": "NameError",
     "evalue": "name 'date' is not defined",
     "output_type": "error",
     "traceback": [
      "\u001b[1;31m---------------------------------------------------------------------------\u001b[0m",
      "\u001b[1;31mNameError\u001b[0m                                 Traceback (most recent call last)",
      "Cell \u001b[1;32mIn[1], line 8\u001b[0m\n\u001b[0;32m      5\u001b[0m     last_day \u001b[38;5;241m=\u001b[39m calendar\u001b[38;5;241m.\u001b[39mmonthrange(today\u001b[38;5;241m.\u001b[39myear, today\u001b[38;5;241m.\u001b[39mmonth)[\u001b[38;5;241m1\u001b[39m]\n\u001b[0;32m      6\u001b[0m     \u001b[38;5;28;01mreturn\u001b[39;00m today\u001b[38;5;241m.\u001b[39mday \u001b[38;5;241m==\u001b[39m last_day\n\u001b[1;32m----> 8\u001b[0m \u001b[38;5;28mprint\u001b[39m(\u001b[43mis_last_day_of_month\u001b[49m\u001b[43m(\u001b[49m\u001b[43m)\u001b[49m)\n",
      "Cell \u001b[1;32mIn[1], line 4\u001b[0m, in \u001b[0;36mis_last_day_of_month\u001b[1;34m()\u001b[0m\n\u001b[0;32m      1\u001b[0m \u001b[38;5;28;01mdef\u001b[39;00m \u001b[38;5;21mis_last_day_of_month\u001b[39m():\n\u001b[0;32m      2\u001b[0m \u001b[38;5;250m    \u001b[39m\u001b[38;5;124;03m\"\"\"Check if today is the last day of the month\"\"\"\u001b[39;00m\n\u001b[1;32m----> 4\u001b[0m     today \u001b[38;5;241m=\u001b[39m \u001b[43mdate\u001b[49m\u001b[38;5;241m.\u001b[39mtoday()\n\u001b[0;32m      5\u001b[0m     last_day \u001b[38;5;241m=\u001b[39m calendar\u001b[38;5;241m.\u001b[39mmonthrange(today\u001b[38;5;241m.\u001b[39myear, today\u001b[38;5;241m.\u001b[39mmonth)[\u001b[38;5;241m1\u001b[39m]\n\u001b[0;32m      6\u001b[0m     \u001b[38;5;28;01mreturn\u001b[39;00m today\u001b[38;5;241m.\u001b[39mday \u001b[38;5;241m==\u001b[39m last_day\n",
      "\u001b[1;31mNameError\u001b[0m: name 'date' is not defined"
     ]
    }
   ],
   "source": [
    "\n",
    "def is_last_day_of_month():\n",
    "    \"\"\"Check if today is the last day of the month\"\"\"\n",
    "\n",
    "    today = date.today()\n",
    "    last_day = calendar.monthrange(today.year, today.month)[1]\n",
    "    return today.day == last_day\n",
    "\n",
    "print(is_last_day_of_month())"
   ]
  },
  {
   "cell_type": "code",
   "execution_count": null,
   "metadata": {},
   "outputs": [],
   "source": [
    "import calendar\n",
    "from datetime import datetime, date"
   ]
  }
 ],
 "metadata": {
  "kernelspec": {
   "display_name": "Python 3",
   "language": "python",
   "name": "python3"
  },
  "language_info": {
   "codemirror_mode": {
    "name": "ipython",
    "version": 3
   },
   "file_extension": ".py",
   "mimetype": "text/x-python",
   "name": "python",
   "nbconvert_exporter": "python",
   "pygments_lexer": "ipython3",
   "version": "3.12.3"
  }
 },
 "nbformat": 4,
 "nbformat_minor": 2
}
